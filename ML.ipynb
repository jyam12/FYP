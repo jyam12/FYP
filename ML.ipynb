{
 "cells": [
  {
   "cell_type": "code",
   "execution_count": 1,
   "metadata": {},
   "outputs": [],
   "source": [
    "import pandas as pd\n",
    "import matplotlib.pyplot as plt\n",
    "from sklearn.metrics import mean_squared_error\n",
    "import time\n",
    "import numpy as np"
   ]
  },
  {
   "cell_type": "code",
   "execution_count": 6,
   "metadata": {},
   "outputs": [],
   "source": [
    "# Load the dataset\n",
    "train_file_path = \"./datasets/Test_PreProcessed_Dataset.csv\"  # Replace with the path to your CSV file\n",
    "train_data = pd.read_csv(train_file_path)\n",
    "\n",
    "eval_file_path = \"./datasets/PreProcessed_Dataset.csv\"  # Replace with the path to your CSV file\n",
    "eval_data = pd.read_csv(eval_file_path)"
   ]
  }
 ],
 "metadata": {
  "kernelspec": {
   "display_name": "Data-U7ef4Qch",
   "language": "python",
   "name": "python3"
  },
  "language_info": {
   "codemirror_mode": {
    "name": "ipython",
    "version": 3
   },
   "file_extension": ".py",
   "mimetype": "text/x-python",
   "name": "python",
   "nbconvert_exporter": "python",
   "pygments_lexer": "ipython3",
   "version": "3.12.6"
  },
  "orig_nbformat": 4,
  "vscode": {
   "interpreter": {
    "hash": "c6704e7646123a05a4f2b3e39a9d0bbc7a9df789e29fcc8db69b31dbdeef21a0"
   }
  }
 },
 "nbformat": 4,
 "nbformat_minor": 2
}
