{
 "cells": [
  {
   "cell_type": "code",
   "execution_count": 74,
   "metadata": {},
   "outputs": [],
   "source": [
    "import pandas as pd\n",
    "import numpy as np\n",
    "import matplotlib.pyplot as plt\n",
    "\n"
   ]
  },
  {
   "cell_type": "code",
   "execution_count": 104,
   "metadata": {},
   "outputs": [],
   "source": [
    "# Specify the path to your CSV file\n",
    "book_snapshot_5_path = 'datasets/deribit_book_snapshot_5_2024-09-01_BTC-PERPETUAL.csv.gz'\n",
    "# incremental_book_L2_path = 'datasets/deribit_incremental_book_L2_2024-09-01_BTC-PERPETUAL.csv.gz'\n",
    "# Read the compressed CSV file using pandas\n",
    "book_snapshot_5 = pd.read_csv(book_snapshot_5_path, compression='gzip')\n",
    "# incremental_book_L2= pd.read_csv(incremental_book_L2_path, compression='gzip')"
   ]
  },
  {
   "cell_type": "code",
   "execution_count": 105,
   "metadata": {},
   "outputs": [],
   "source": [
    "derivative_ticker_path = 'datasets/deribit_derivative_ticker_2024-09-01_BTC-PERPETUAL.csv.gz'\n",
    "derivative_ticker= pd.read_csv(derivative_ticker_path, compression='gzip')\n"
   ]
  },
  {
   "cell_type": "code",
   "execution_count": 99,
   "metadata": {},
   "outputs": [
    {
     "data": {
      "text/html": [
       "<div>\n",
       "<style scoped>\n",
       "    .dataframe tbody tr th:only-of-type {\n",
       "        vertical-align: middle;\n",
       "    }\n",
       "\n",
       "    .dataframe tbody tr th {\n",
       "        vertical-align: top;\n",
       "    }\n",
       "\n",
       "    .dataframe thead th {\n",
       "        text-align: right;\n",
       "    }\n",
       "</style>\n",
       "<table border=\"1\" class=\"dataframe\">\n",
       "  <thead>\n",
       "    <tr style=\"text-align: right;\">\n",
       "      <th></th>\n",
       "      <th>exchange</th>\n",
       "      <th>symbol</th>\n",
       "      <th>timestamp</th>\n",
       "      <th>asks[0].price</th>\n",
       "      <th>asks[0].amount</th>\n",
       "      <th>bids[0].price</th>\n",
       "      <th>bids[0].amount</th>\n",
       "      <th>asks[1].price</th>\n",
       "      <th>asks[1].amount</th>\n",
       "      <th>bids[1].price</th>\n",
       "      <th>...</th>\n",
       "      <th>bids[2].price</th>\n",
       "      <th>bids[2].amount</th>\n",
       "      <th>asks[3].price</th>\n",
       "      <th>asks[3].amount</th>\n",
       "      <th>bids[3].price</th>\n",
       "      <th>bids[3].amount</th>\n",
       "      <th>asks[4].price</th>\n",
       "      <th>asks[4].amount</th>\n",
       "      <th>bids[4].price</th>\n",
       "      <th>bids[4].amount</th>\n",
       "    </tr>\n",
       "  </thead>\n",
       "  <tbody>\n",
       "    <tr>\n",
       "      <th>0</th>\n",
       "      <td>deribit</td>\n",
       "      <td>BTC-PERPETUAL</td>\n",
       "      <td>1725148800151000</td>\n",
       "      <td>58971.0</td>\n",
       "      <td>172780</td>\n",
       "      <td>58970.5</td>\n",
       "      <td>7050</td>\n",
       "      <td>58972.5</td>\n",
       "      <td>6500</td>\n",
       "      <td>58967.5</td>\n",
       "      <td>...</td>\n",
       "      <td>58967.0</td>\n",
       "      <td>10000</td>\n",
       "      <td>58975.5</td>\n",
       "      <td>35900</td>\n",
       "      <td>58964.5</td>\n",
       "      <td>10330</td>\n",
       "      <td>58976.0</td>\n",
       "      <td>1290</td>\n",
       "      <td>58963.0</td>\n",
       "      <td>1280</td>\n",
       "    </tr>\n",
       "    <tr>\n",
       "      <th>1</th>\n",
       "      <td>deribit</td>\n",
       "      <td>BTC-PERPETUAL</td>\n",
       "      <td>1725148800376000</td>\n",
       "      <td>58971.0</td>\n",
       "      <td>178840</td>\n",
       "      <td>58970.5</td>\n",
       "      <td>7050</td>\n",
       "      <td>58972.5</td>\n",
       "      <td>6500</td>\n",
       "      <td>58967.5</td>\n",
       "      <td>...</td>\n",
       "      <td>58967.0</td>\n",
       "      <td>10000</td>\n",
       "      <td>58975.5</td>\n",
       "      <td>35900</td>\n",
       "      <td>58964.5</td>\n",
       "      <td>10330</td>\n",
       "      <td>58976.0</td>\n",
       "      <td>1290</td>\n",
       "      <td>58963.0</td>\n",
       "      <td>1280</td>\n",
       "    </tr>\n",
       "    <tr>\n",
       "      <th>2</th>\n",
       "      <td>deribit</td>\n",
       "      <td>BTC-PERPETUAL</td>\n",
       "      <td>1725148800622000</td>\n",
       "      <td>58971.0</td>\n",
       "      <td>179840</td>\n",
       "      <td>58970.5</td>\n",
       "      <td>7050</td>\n",
       "      <td>58972.5</td>\n",
       "      <td>6500</td>\n",
       "      <td>58967.5</td>\n",
       "      <td>...</td>\n",
       "      <td>58967.0</td>\n",
       "      <td>10000</td>\n",
       "      <td>58975.5</td>\n",
       "      <td>35900</td>\n",
       "      <td>58964.5</td>\n",
       "      <td>10330</td>\n",
       "      <td>58976.0</td>\n",
       "      <td>1290</td>\n",
       "      <td>58963.0</td>\n",
       "      <td>1280</td>\n",
       "    </tr>\n",
       "    <tr>\n",
       "      <th>3</th>\n",
       "      <td>deribit</td>\n",
       "      <td>BTC-PERPETUAL</td>\n",
       "      <td>1725148800810000</td>\n",
       "      <td>58971.0</td>\n",
       "      <td>179840</td>\n",
       "      <td>58970.5</td>\n",
       "      <td>7050</td>\n",
       "      <td>58972.5</td>\n",
       "      <td>6500</td>\n",
       "      <td>58967.5</td>\n",
       "      <td>...</td>\n",
       "      <td>58967.0</td>\n",
       "      <td>10000</td>\n",
       "      <td>58975.5</td>\n",
       "      <td>35900</td>\n",
       "      <td>58964.5</td>\n",
       "      <td>10330</td>\n",
       "      <td>58976.0</td>\n",
       "      <td>1290</td>\n",
       "      <td>58963.0</td>\n",
       "      <td>31280</td>\n",
       "    </tr>\n",
       "    <tr>\n",
       "      <th>4</th>\n",
       "      <td>deribit</td>\n",
       "      <td>BTC-PERPETUAL</td>\n",
       "      <td>1725148800906000</td>\n",
       "      <td>58971.0</td>\n",
       "      <td>179840</td>\n",
       "      <td>58970.5</td>\n",
       "      <td>60</td>\n",
       "      <td>58972.5</td>\n",
       "      <td>6500</td>\n",
       "      <td>58967.5</td>\n",
       "      <td>...</td>\n",
       "      <td>58967.0</td>\n",
       "      <td>10000</td>\n",
       "      <td>58975.5</td>\n",
       "      <td>35900</td>\n",
       "      <td>58965.0</td>\n",
       "      <td>101000</td>\n",
       "      <td>58976.0</td>\n",
       "      <td>1290</td>\n",
       "      <td>58964.5</td>\n",
       "      <td>10330</td>\n",
       "    </tr>\n",
       "  </tbody>\n",
       "</table>\n",
       "<p>5 rows × 23 columns</p>\n",
       "</div>"
      ],
      "text/plain": [
       "  exchange         symbol         timestamp  asks[0].price  asks[0].amount  \\\n",
       "0  deribit  BTC-PERPETUAL  1725148800151000        58971.0          172780   \n",
       "1  deribit  BTC-PERPETUAL  1725148800376000        58971.0          178840   \n",
       "2  deribit  BTC-PERPETUAL  1725148800622000        58971.0          179840   \n",
       "3  deribit  BTC-PERPETUAL  1725148800810000        58971.0          179840   \n",
       "4  deribit  BTC-PERPETUAL  1725148800906000        58971.0          179840   \n",
       "\n",
       "   bids[0].price  bids[0].amount  asks[1].price  asks[1].amount  \\\n",
       "0        58970.5            7050        58972.5            6500   \n",
       "1        58970.5            7050        58972.5            6500   \n",
       "2        58970.5            7050        58972.5            6500   \n",
       "3        58970.5            7050        58972.5            6500   \n",
       "4        58970.5              60        58972.5            6500   \n",
       "\n",
       "   bids[1].price  ...  bids[2].price  bids[2].amount  asks[3].price  \\\n",
       "0        58967.5  ...        58967.0           10000        58975.5   \n",
       "1        58967.5  ...        58967.0           10000        58975.5   \n",
       "2        58967.5  ...        58967.0           10000        58975.5   \n",
       "3        58967.5  ...        58967.0           10000        58975.5   \n",
       "4        58967.5  ...        58967.0           10000        58975.5   \n",
       "\n",
       "   asks[3].amount  bids[3].price  bids[3].amount  asks[4].price  \\\n",
       "0           35900        58964.5           10330        58976.0   \n",
       "1           35900        58964.5           10330        58976.0   \n",
       "2           35900        58964.5           10330        58976.0   \n",
       "3           35900        58964.5           10330        58976.0   \n",
       "4           35900        58965.0          101000        58976.0   \n",
       "\n",
       "   asks[4].amount  bids[4].price  bids[4].amount  \n",
       "0            1290        58963.0            1280  \n",
       "1            1290        58963.0            1280  \n",
       "2            1290        58963.0            1280  \n",
       "3            1290        58963.0           31280  \n",
       "4            1290        58964.5           10330  \n",
       "\n",
       "[5 rows x 23 columns]"
      ]
     },
     "execution_count": 99,
     "metadata": {},
     "output_type": "execute_result"
    }
   ],
   "source": [
    "# Display the contents of the DataFrame (optional)\n",
    "book_snapshot_5.head()"
   ]
  },
  {
   "cell_type": "code",
   "execution_count": 106,
   "metadata": {},
   "outputs": [],
   "source": [
    "# Select Field from Datasets\n",
    "P_book_snapshot_5=book_snapshot_5\n",
    "P_book_snapshot_5.pop(\"local_timestamp\")\n",
    "P_derivative_ticker=derivative_ticker[[\"exchange\",\"symbol\", \"timestamp\",\"last_price\", \"index_price\", \"mark_price\"]]\n"
   ]
  },
  {
   "cell_type": "code",
   "execution_count": null,
   "metadata": {},
   "outputs": [],
   "source": [
    "# TODO: Time interval "
   ]
  },
  {
   "cell_type": "code",
   "execution_count": 107,
   "metadata": {},
   "outputs": [
    {
     "name": "stderr",
     "output_type": "stream",
     "text": [
      "/var/folders/th/2hk9yq1j1mggcd13vp8_wn880000gn/T/ipykernel_2679/2775975423.py:2: SettingWithCopyWarning: \n",
      "A value is trying to be set on a copy of a slice from a DataFrame.\n",
      "Try using .loc[row_indexer,col_indexer] = value instead\n",
      "\n",
      "See the caveats in the documentation: https://pandas.pydata.org/pandas-docs/stable/user_guide/indexing.html#returning-a-view-versus-a-copy\n",
      "  test['timestamp']= pd.to_datetime(test['timestamp'], unit='us')\n"
     ]
    }
   ],
   "source": [
    "# To readable timeframe\n",
    "test=P_derivative_ticker\n",
    "test['timestamp']= pd.to_datetime(test['timestamp'], unit='us')"
   ]
  },
  {
   "cell_type": "code",
   "execution_count": 126,
   "metadata": {},
   "outputs": [
    {
     "name": "stderr",
     "output_type": "stream",
     "text": [
      "/var/folders/th/2hk9yq1j1mggcd13vp8_wn880000gn/T/ipykernel_2679/812669000.py:2: SettingWithCopyWarning: \n",
      "A value is trying to be set on a copy of a slice from a DataFrame.\n",
      "Try using .loc[row_indexer,col_indexer] = value instead\n",
      "\n",
      "See the caveats in the documentation: https://pandas.pydata.org/pandas-docs/stable/user_guide/indexing.html#returning-a-view-versus-a-copy\n",
      "  test['smoothed_last_price'] = test['last_price'].rolling(window=window_size).mean()\n"
     ]
    }
   ],
   "source": [
    "window_size = 4  # Adjust the window size as needed\n",
    "test['smoothed_last_price'] = test['last_price'].rolling(window=window_size).mean()"
   ]
  },
  {
   "cell_type": "code",
   "execution_count": 120,
   "metadata": {},
   "outputs": [
    {
     "data": {
      "image/png": "[encoded data removed]",
      "text/plain": [
       "<Figure size 640x480 with 3 Axes>"
      ]
     },
     "metadata": {},
     "output_type": "display_data"
    }
   ],
   "source": [
    "fig, axs = plt.subplots(3)\n",
    "\n",
    "axs[0].plot(test['timestamp'],test['last_price'],color='b')\n",
    "axs[1].plot(test['timestamp'],test['smoothed_last_price'],color='r')\n",
    "axs[2].plot(test['timestamp'],test['index_price'],color='g')\n",
    "\n",
    "plt.show()\n"
   ]
  }
 ],
 "metadata": {
  "kernelspec": {
   "display_name": "Data-U7ef4Qch",
   "language": "python",
   "name": "python3"
  },
  "language_info": {
   "codemirror_mode": {
    "name": "ipython",
    "version": 3
   },
   "file_extension": ".py",
   "mimetype": "text/x-python",
   "name": "python",
   "nbconvert_exporter": "python",
   "pygments_lexer": "ipython3",
   "version": "3.12.6"
  },
  "orig_nbformat": 4,
  "vscode": {
   "interpreter": {
    "hash": "c6704e7646123a05a4f2b3e39a9d0bbc7a9df789e29fcc8db69b31dbdeef21a0"
   }
  }
 },
 "nbformat": 4,
 "nbformat_minor": 2
}
