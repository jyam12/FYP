{
 "cells": [
  {
   "cell_type": "code",
   "execution_count": 1,
   "metadata": {},
   "outputs": [
    {
     "name": "stderr",
     "output_type": "stream",
     "text": [
      "C:\\Users\\admin\\AppData\\Local\\Temp\\ipykernel_29956\\3090805088.py:1: DeprecationWarning: \n",
      "Pyarrow will become a required dependency of pandas in the next major release of pandas (pandas 3.0),\n",
      "(to allow more performant data types, such as the Arrow string type, and better interoperability with other libraries)\n",
      "but was not found to be installed on your system.\n",
      "If this would cause problems for you,\n",
      "please provide us feedback at https://github.com/pandas-dev/pandas/issues/54466\n",
      "        \n",
      "  import pandas as pd\n"
     ]
    }
   ],
   "source": [
    "import pandas as pd\n",
    "import numpy as np\n",
    "import matplotlib.pyplot as plt\n",
    "\n"
   ]
  },
  {
   "cell_type": "code",
   "execution_count": 2,
   "metadata": {},
   "outputs": [],
   "source": [
    "# Specify the path to the CSV file\n",
    "Processed_Dataset_path = 'datasets/Processed_Dataset.csv'\n",
    "\n",
    "\n",
    "# Read the compressed CSV file using pandas\n",
    "Processed_Dataset = pd.read_csv(Processed_Dataset_path)"
   ]
  },
  {
   "cell_type": "code",
   "execution_count": 3,
   "metadata": {},
   "outputs": [
    {
     "name": "stdout",
     "output_type": "stream",
     "text": [
      "Size of data 345600\n"
     ]
    },
    {
     "data": {
      "text/html": [
       "<div>\n",
       "<style scoped>\n",
       "    .dataframe tbody tr th:only-of-type {\n",
       "        vertical-align: middle;\n",
       "    }\n",
       "\n",
       "    .dataframe tbody tr th {\n",
       "        vertical-align: top;\n",
       "    }\n",
       "\n",
       "    .dataframe thead th {\n",
       "        text-align: right;\n",
       "    }\n",
       "</style>\n",
       "<table border=\"1\" class=\"dataframe\">\n",
       "  <thead>\n",
       "    <tr style=\"text-align: right;\">\n",
       "      <th></th>\n",
       "      <th>timestamp</th>\n",
       "      <th>exchange</th>\n",
       "      <th>symbol</th>\n",
       "      <th>DT_timestamp</th>\n",
       "      <th>BS5_timestamp</th>\n",
       "      <th>last_price</th>\n",
       "      <th>index_price</th>\n",
       "      <th>mark_price</th>\n",
       "      <th>asks[0].price</th>\n",
       "      <th>asks[0].amount</th>\n",
       "      <th>...</th>\n",
       "      <th>bids[2].price</th>\n",
       "      <th>bids[2].amount</th>\n",
       "      <th>asks[3].price</th>\n",
       "      <th>asks[3].amount</th>\n",
       "      <th>bids[3].price</th>\n",
       "      <th>bids[3].amount</th>\n",
       "      <th>asks[4].price</th>\n",
       "      <th>asks[4].amount</th>\n",
       "      <th>bids[4].price</th>\n",
       "      <th>bids[4].amount</th>\n",
       "    </tr>\n",
       "  </thead>\n",
       "  <tbody>\n",
       "    <tr>\n",
       "      <th>0</th>\n",
       "      <td>1725148800000000</td>\n",
       "      <td>deribit</td>\n",
       "      <td>BTC-PERPETUAL</td>\n",
       "      <td>1725148800138000</td>\n",
       "      <td>1725148800151000</td>\n",
       "      <td>58971.0</td>\n",
       "      <td>58969.00</td>\n",
       "      <td>58970.45</td>\n",
       "      <td>58971.0</td>\n",
       "      <td>172780.0</td>\n",
       "      <td>...</td>\n",
       "      <td>58967.0</td>\n",
       "      <td>10000.0</td>\n",
       "      <td>58975.5</td>\n",
       "      <td>35900.0</td>\n",
       "      <td>58964.5</td>\n",
       "      <td>10330.0</td>\n",
       "      <td>58976.0</td>\n",
       "      <td>1290.0</td>\n",
       "      <td>58963.0</td>\n",
       "      <td>1280.0</td>\n",
       "    </tr>\n",
       "    <tr>\n",
       "      <th>1</th>\n",
       "      <td>1725148800250000</td>\n",
       "      <td>deribit</td>\n",
       "      <td>BTC-PERPETUAL</td>\n",
       "      <td>1725148800138000</td>\n",
       "      <td>1725148800151000</td>\n",
       "      <td>58971.0</td>\n",
       "      <td>58969.00</td>\n",
       "      <td>58970.45</td>\n",
       "      <td>58971.0</td>\n",
       "      <td>172780.0</td>\n",
       "      <td>...</td>\n",
       "      <td>58967.0</td>\n",
       "      <td>10000.0</td>\n",
       "      <td>58975.5</td>\n",
       "      <td>35900.0</td>\n",
       "      <td>58964.5</td>\n",
       "      <td>10330.0</td>\n",
       "      <td>58976.0</td>\n",
       "      <td>1290.0</td>\n",
       "      <td>58963.0</td>\n",
       "      <td>1280.0</td>\n",
       "    </tr>\n",
       "    <tr>\n",
       "      <th>2</th>\n",
       "      <td>1725148800500000</td>\n",
       "      <td>deribit</td>\n",
       "      <td>BTC-PERPETUAL</td>\n",
       "      <td>1725148800376000</td>\n",
       "      <td>1725148800622000</td>\n",
       "      <td>58971.0</td>\n",
       "      <td>58969.00</td>\n",
       "      <td>58970.44</td>\n",
       "      <td>58971.0</td>\n",
       "      <td>179840.0</td>\n",
       "      <td>...</td>\n",
       "      <td>58967.0</td>\n",
       "      <td>10000.0</td>\n",
       "      <td>58975.5</td>\n",
       "      <td>35900.0</td>\n",
       "      <td>58964.5</td>\n",
       "      <td>10330.0</td>\n",
       "      <td>58976.0</td>\n",
       "      <td>1290.0</td>\n",
       "      <td>58963.0</td>\n",
       "      <td>1280.0</td>\n",
       "    </tr>\n",
       "    <tr>\n",
       "      <th>3</th>\n",
       "      <td>1725148800750000</td>\n",
       "      <td>deribit</td>\n",
       "      <td>BTC-PERPETUAL</td>\n",
       "      <td>1725148800806000</td>\n",
       "      <td>1725148800810000</td>\n",
       "      <td>58971.0</td>\n",
       "      <td>58967.96</td>\n",
       "      <td>58969.40</td>\n",
       "      <td>58971.0</td>\n",
       "      <td>179840.0</td>\n",
       "      <td>...</td>\n",
       "      <td>58967.0</td>\n",
       "      <td>10000.0</td>\n",
       "      <td>58975.5</td>\n",
       "      <td>35900.0</td>\n",
       "      <td>58964.5</td>\n",
       "      <td>10330.0</td>\n",
       "      <td>58976.0</td>\n",
       "      <td>1290.0</td>\n",
       "      <td>58963.0</td>\n",
       "      <td>31280.0</td>\n",
       "    </tr>\n",
       "    <tr>\n",
       "      <th>4</th>\n",
       "      <td>1725148801000000</td>\n",
       "      <td>deribit</td>\n",
       "      <td>BTC-PERPETUAL</td>\n",
       "      <td>1725148800806000</td>\n",
       "      <td>1725148800948000</td>\n",
       "      <td>58971.0</td>\n",
       "      <td>58967.96</td>\n",
       "      <td>58969.40</td>\n",
       "      <td>58971.0</td>\n",
       "      <td>179840.0</td>\n",
       "      <td>...</td>\n",
       "      <td>58967.0</td>\n",
       "      <td>10000.0</td>\n",
       "      <td>58975.5</td>\n",
       "      <td>35900.0</td>\n",
       "      <td>58965.5</td>\n",
       "      <td>30000.0</td>\n",
       "      <td>58976.0</td>\n",
       "      <td>1290.0</td>\n",
       "      <td>58965.0</td>\n",
       "      <td>101000.0</td>\n",
       "    </tr>\n",
       "  </tbody>\n",
       "</table>\n",
       "<p>5 rows × 28 columns</p>\n",
       "</div>"
      ],
      "text/plain": [
       "          timestamp exchange         symbol      DT_timestamp  \\\n",
       "0  1725148800000000  deribit  BTC-PERPETUAL  1725148800138000   \n",
       "1  1725148800250000  deribit  BTC-PERPETUAL  1725148800138000   \n",
       "2  1725148800500000  deribit  BTC-PERPETUAL  1725148800376000   \n",
       "3  1725148800750000  deribit  BTC-PERPETUAL  1725148800806000   \n",
       "4  1725148801000000  deribit  BTC-PERPETUAL  1725148800806000   \n",
       "\n",
       "      BS5_timestamp  last_price  index_price  mark_price  asks[0].price  \\\n",
       "0  1725148800151000     58971.0     58969.00    58970.45        58971.0   \n",
       "1  1725148800151000     58971.0     58969.00    58970.45        58971.0   \n",
       "2  1725148800622000     58971.0     58969.00    58970.44        58971.0   \n",
       "3  1725148800810000     58971.0     58967.96    58969.40        58971.0   \n",
       "4  1725148800948000     58971.0     58967.96    58969.40        58971.0   \n",
       "\n",
       "   asks[0].amount  ...  bids[2].price  bids[2].amount  asks[3].price  \\\n",
       "0        172780.0  ...        58967.0         10000.0        58975.5   \n",
       "1        172780.0  ...        58967.0         10000.0        58975.5   \n",
       "2        179840.0  ...        58967.0         10000.0        58975.5   \n",
       "3        179840.0  ...        58967.0         10000.0        58975.5   \n",
       "4        179840.0  ...        58967.0         10000.0        58975.5   \n",
       "\n",
       "   asks[3].amount  bids[3].price  bids[3].amount  asks[4].price  \\\n",
       "0         35900.0        58964.5         10330.0        58976.0   \n",
       "1         35900.0        58964.5         10330.0        58976.0   \n",
       "2         35900.0        58964.5         10330.0        58976.0   \n",
       "3         35900.0        58964.5         10330.0        58976.0   \n",
       "4         35900.0        58965.5         30000.0        58976.0   \n",
       "\n",
       "   asks[4].amount  bids[4].price  bids[4].amount  \n",
       "0          1290.0        58963.0          1280.0  \n",
       "1          1290.0        58963.0          1280.0  \n",
       "2          1290.0        58963.0          1280.0  \n",
       "3          1290.0        58963.0         31280.0  \n",
       "4          1290.0        58965.0        101000.0  \n",
       "\n",
       "[5 rows x 28 columns]"
      ]
     },
     "execution_count": 3,
     "metadata": {},
     "output_type": "execute_result"
    }
   ],
   "source": [
    "print(\"Size of data\",len(Processed_Dataset))\n",
    "Processed_Dataset.head()"
   ]
  },
  {
   "cell_type": "code",
   "execution_count": 5,
   "metadata": {},
   "outputs": [],
   "source": [
    "# Making copy for dataset and rename column name\n",
    "# P_book_snapshot_5=book_snapshot_5.copy(deep=True)\n",
    "# P_book_snapshot_5.pop(\"local_timestamp\")\n",
    "# book_snapshot_5 = book_snapshot_5.rename(columns={'timestamp': 'BS5_timestamp'})\n",
    "\n",
    "# P_derivative_ticker=derivative_ticker[[\"exchange\",\"symbol\", \"timestamp\",\"last_price\", \"index_price\", \"mark_price\"]].copy(deep=True)\n",
    "# P_derivative_ticker = P_derivative_ticker.rename(columns={'timestamp': 'DT_timestamp'})"
   ]
  },
  {
   "cell_type": "code",
   "execution_count": 6,
   "metadata": {},
   "outputs": [
    {
     "ename": "NameError",
     "evalue": "name 'P_derivative_ticker' is not defined",
     "output_type": "error",
     "traceback": [
      "\u001b[1;31m---------------------------------------------------------------------------\u001b[0m",
      "\u001b[1;31mNameError\u001b[0m                                 Traceback (most recent call last)",
      "Cell \u001b[1;32mIn[6], line 3\u001b[0m\n\u001b[0;32m      1\u001b[0m \u001b[39m# TODO: Time interval \u001b[39;00m\n\u001b[1;32m----> 3\u001b[0m P_derivative_ticker[\u001b[39m'\u001b[39m\u001b[39mtimestamp\u001b[39m\u001b[39m'\u001b[39m] \u001b[39m=\u001b[39m pd\u001b[39m.\u001b[39mto_datetime(P_derivative_ticker[\u001b[39m'\u001b[39m\u001b[39mtimestamp\u001b[39m\u001b[39m'\u001b[39m], unit\u001b[39m=\u001b[39m\u001b[39m'\u001b[39m\u001b[39mus\u001b[39m\u001b[39m'\u001b[39m)\n\u001b[0;32m      4\u001b[0m P_derivative_ticker\u001b[39m.\u001b[39mhead()\n",
      "\u001b[1;31mNameError\u001b[0m: name 'P_derivative_ticker' is not defined"
     ]
    }
   ],
   "source": [
    "# TODO: Time interval \n",
    "\n",
    "P_derivative_ticker['timestamp'] = pd.to_datetime(P_derivative_ticker['timestamp'], unit='us')\n",
    "P_derivative_ticker.head()\n"
   ]
  },
  {
   "cell_type": "code",
   "execution_count": null,
   "metadata": {},
   "outputs": [],
   "source": [
    "P_derivative_ticker.set_index('timestamp', inplace=True)"
   ]
  },
  {
   "cell_type": "code",
   "execution_count": 7,
   "metadata": {},
   "outputs": [
    {
     "ename": "NameError",
     "evalue": "name 'P_derivative_ticker' is not defined",
     "output_type": "error",
     "traceback": [
      "\u001b[1;31m---------------------------------------------------------------------------\u001b[0m",
      "\u001b[1;31mNameError\u001b[0m                                 Traceback (most recent call last)",
      "Cell \u001b[1;32mIn[7], line 1\u001b[0m\n\u001b[1;32m----> 1\u001b[0m P_derivative_ticker \u001b[39m=\u001b[39m P_derivative_ticker[\u001b[39m~\u001b[39mP_derivative_ticker\u001b[39m.\u001b[39mindex\u001b[39m.\u001b[39mduplicated(keep\u001b[39m=\u001b[39m\u001b[39m'\u001b[39m\u001b[39mfirst\u001b[39m\u001b[39m'\u001b[39m)]\n\u001b[0;32m      2\u001b[0m P_derivative_ticker\u001b[39m.\u001b[39mhead()\n",
      "\u001b[1;31mNameError\u001b[0m: name 'P_derivative_ticker' is not defined"
     ]
    }
   ],
   "source": [
    "P_derivative_ticker = P_derivative_ticker[~P_derivative_ticker.index.duplicated(keep='first')]\n",
    "P_derivative_ticker.head()"
   ]
  },
  {
   "cell_type": "code",
   "execution_count": 8,
   "metadata": {},
   "outputs": [],
   "source": [
    "# P_derivative_ticker = P_derivative_ticker.reindex(df.index, method='ffill')"
   ]
  },
  {
   "cell_type": "code",
   "execution_count": 9,
   "metadata": {},
   "outputs": [
    {
     "ename": "NameError",
     "evalue": "name 'P_derivative_ticker' is not defined",
     "output_type": "error",
     "traceback": [
      "\u001b[1;31m---------------------------------------------------------------------------\u001b[0m",
      "\u001b[1;31mNameError\u001b[0m                                 Traceback (most recent call last)",
      "Cell \u001b[1;32mIn[9], line 1\u001b[0m\n\u001b[1;32m----> 1\u001b[0m P_derivative_ticker\u001b[39m.\u001b[39mhead()\n",
      "\u001b[1;31mNameError\u001b[0m: name 'P_derivative_ticker' is not defined"
     ]
    }
   ],
   "source": [
    "P_derivative_ticker.head()"
   ]
  },
  {
   "cell_type": "code",
   "execution_count": 10,
   "metadata": {},
   "outputs": [
    {
     "ename": "NameError",
     "evalue": "name 'derivative_ticker' is not defined",
     "output_type": "error",
     "traceback": [
      "\u001b[1;31m---------------------------------------------------------------------------\u001b[0m",
      "\u001b[1;31mNameError\u001b[0m                                 Traceback (most recent call last)",
      "Cell \u001b[1;32mIn[10], line 1\u001b[0m\n\u001b[1;32m----> 1\u001b[0m \u001b[39mprint\u001b[39m(\u001b[39m\"\u001b[39m\u001b[39mSize of derivative_ticker\u001b[39m\u001b[39m\"\u001b[39m,\u001b[39mlen\u001b[39m(derivative_ticker))\n",
      "\u001b[1;31mNameError\u001b[0m: name 'derivative_ticker' is not defined"
     ]
    }
   ],
   "source": [
    "print(\"Size of derivative_ticker\",len(derivative_ticker))"
   ]
  },
  {
   "cell_type": "code",
   "execution_count": 11,
   "metadata": {},
   "outputs": [
    {
     "ename": "NameError",
     "evalue": "name 'df' is not defined",
     "output_type": "error",
     "traceback": [
      "\u001b[1;31m---------------------------------------------------------------------------\u001b[0m",
      "\u001b[1;31mNameError\u001b[0m                                 Traceback (most recent call last)",
      "Cell \u001b[1;32mIn[11], line 1\u001b[0m\n\u001b[1;32m----> 1\u001b[0m merged_df \u001b[39m=\u001b[39m pd\u001b[39m.\u001b[39mmerge_asof(df, derivative_ticker, on\u001b[39m=\u001b[39m\u001b[39m'\u001b[39m\u001b[39mtimestamp\u001b[39m\u001b[39m'\u001b[39m, direction\u001b[39m=\u001b[39m\u001b[39m'\u001b[39m\u001b[39mforward\u001b[39m\u001b[39m'\u001b[39m)\n",
      "\u001b[1;31mNameError\u001b[0m: name 'df' is not defined"
     ]
    }
   ],
   "source": [
    "merged_df = pd.merge_asof(df, derivative_ticker, on='timestamp', direction='forward')"
   ]
  },
  {
   "cell_type": "code",
   "execution_count": 12,
   "metadata": {},
   "outputs": [
    {
     "ename": "NameError",
     "evalue": "name 'df' is not defined",
     "output_type": "error",
     "traceback": [
      "\u001b[1;31m---------------------------------------------------------------------------\u001b[0m",
      "\u001b[1;31mNameError\u001b[0m                                 Traceback (most recent call last)",
      "Cell \u001b[1;32mIn[12], line 7\u001b[0m\n\u001b[0;32m      4\u001b[0m     \u001b[39mreturn\u001b[39;00m df2\u001b[39m.\u001b[39miloc[idx]\n\u001b[0;32m      6\u001b[0m \u001b[39m# Fill df1 based on nearest timestamp from df2\u001b[39;00m\n\u001b[1;32m----> 7\u001b[0m \u001b[39mfor\u001b[39;00m idx \u001b[39min\u001b[39;00m df\u001b[39m.\u001b[39mindex:\n\u001b[0;32m      8\u001b[0m     df\u001b[39m.\u001b[39mloc[idx] \u001b[39m=\u001b[39m find_nearest_timestamp(idx, P_derivative_ticker)\n",
      "\u001b[1;31mNameError\u001b[0m: name 'df' is not defined"
     ]
    }
   ],
   "source": [
    "# Function to find nearest timestamp in df2 for a given timestamp\n",
    "def find_nearest_timestamp(ts, df2):\n",
    "    idx = (df2.index - ts).argmin()\n",
    "    return df2.iloc[idx]\n",
    "\n",
    "# Fill df1 based on nearest timestamp from df2\n",
    "for idx in df.index:\n",
    "    df.loc[idx] = find_nearest_timestamp(idx, P_derivative_ticker)"
   ]
  },
  {
   "cell_type": "code",
   "execution_count": 13,
   "metadata": {},
   "outputs": [
    {
     "ename": "NameError",
     "evalue": "name 'P_derivative_ticker' is not defined",
     "output_type": "error",
     "traceback": [
      "\u001b[1;31m---------------------------------------------------------------------------\u001b[0m",
      "\u001b[1;31mNameError\u001b[0m                                 Traceback (most recent call last)",
      "Cell \u001b[1;32mIn[13], line 2\u001b[0m\n\u001b[0;32m      1\u001b[0m \u001b[39m# To readable timeframe\u001b[39;00m\n\u001b[1;32m----> 2\u001b[0m test\u001b[39m=\u001b[39mP_derivative_ticker\n\u001b[0;32m      3\u001b[0m test[\u001b[39m'\u001b[39m\u001b[39mtimestamp\u001b[39m\u001b[39m'\u001b[39m]\u001b[39m=\u001b[39m pd\u001b[39m.\u001b[39mto_datetime(test[\u001b[39m'\u001b[39m\u001b[39mtimestamp\u001b[39m\u001b[39m'\u001b[39m], unit\u001b[39m=\u001b[39m\u001b[39m'\u001b[39m\u001b[39mus\u001b[39m\u001b[39m'\u001b[39m)\n",
      "\u001b[1;31mNameError\u001b[0m: name 'P_derivative_ticker' is not defined"
     ]
    }
   ],
   "source": [
    "# To readable timeframe\n",
    "test=P_derivative_ticker\n",
    "test['timestamp']= pd.to_datetime(test['timestamp'], unit='us')"
   ]
  },
  {
   "cell_type": "code",
   "execution_count": null,
   "metadata": {},
   "outputs": [],
   "source": [
    "threshold = -30\n",
    "time_window = 500\n",
    "test['Diff'] = test['last_price'].diff()\n",
    "test['TimeDiff'] = (test['timestamp'] - test['timestamp'].shift()).dt.total_seconds()\n",
    "filtered_df = test[(test['last_price'].diff() >= threshold) & (test['TimeDiff'] <= time_window)]\n"
   ]
  },
  {
   "cell_type": "code",
   "execution_count": null,
   "metadata": {},
   "outputs": [],
   "source": [
    "window_size = 4  # Adjust the window size as needed\n",
    "test['smoothed_last_price'] = test['last_price'].rolling(window=30).mean()"
   ]
  },
  {
   "cell_type": "code",
   "execution_count": null,
   "metadata": {},
   "outputs": [
    {
     "data": {
      "image/png": "[encoded data removed]",
      "text/plain": [
       "<Figure size 640x480 with 2 Axes>"
      ]
     },
     "metadata": {},
     "output_type": "display_data"
    }
   ],
   "source": [
    "fig, axs = plt.subplots(2)\n",
    "n = 50000\n",
    "axs[0].plot(test['timestamp'],test['last_price'],color='b')\n",
    "axs[1].plot(filtered_df['timestamp'],filtered_df['last_price'],color='r')\n",
    "# axs[2].plot(test['timestamp'],test['index_price'],color='g')\n",
    "# Set x-axis tick positions for each subplot\n",
    "for i in range(2):\n",
    "    axs[i].set_xticks(test['timestamp'][::n])\n",
    "\n",
    "plt.show()\n"
   ]
  }
 ],
 "metadata": {
  "kernelspec": {
   "display_name": "Python 3",
   "language": "python",
   "name": "python3"
  },
  "language_info": {
   "codemirror_mode": {
    "name": "ipython",
    "version": 3
   },
   "file_extension": ".py",
   "mimetype": "text/x-python",
   "name": "python",
   "nbconvert_exporter": "python",
   "pygments_lexer": "ipython3",
   "version": "3.11.0 (main, Oct 24 2022, 18:26:48) [MSC v.1933 64 bit (AMD64)]"
  },
  "orig_nbformat": 4,
  "vscode": {
   "interpreter": {
    "hash": "c261aea317cc0286b3b3261fbba9abdec21eaa57589985bb7a274bf54d6cc0a7"
   }
  }
 },
 "nbformat": 4,
 "nbformat_minor": 2
}
