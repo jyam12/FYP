{
 "cells": [
  {
   "cell_type": "code",
   "execution_count": 1,
   "metadata": {},
   "outputs": [],
   "source": [
    "import pandas as pd\n",
    "import numpy as np\n",
    "import matplotlib.pyplot as plt\n",
    "import seaborn as sns\n"
   ]
  },
  {
   "cell_type": "code",
   "execution_count": 4,
   "metadata": {},
   "outputs": [],
   "source": [
    "# Specify the path to the CSV file\n",
    "Processed_Dataset_path = 'datasets/PreProcessed_Dataset.csv'\n",
    "\n",
    "# Read the compressed CSV file using pandas\n",
    "Processed_Dataset = pd.read_csv(Processed_Dataset_path)"
   ]
  },
  {
   "cell_type": "code",
   "execution_count": 12,
   "metadata": {},
   "outputs": [],
   "source": [
    "#207359\n",
    "train_size = int(len(Processed_Dataset) * 0.6)\n",
    "#103679\n",
    "test_size = int(len(Processed_Dataset) * 0.3)\n",
    "#34559\n",
    "eval_size = int(len(Processed_Dataset) * 0.1)\n",
    "\n",
    "train_data = Processed_Dataset.iloc[:train_size+1].copy(deep=True)\n",
    "test_data = Processed_Dataset.iloc[train_size:train_size + test_size+1].copy(deep=True)\n",
    "eval_data = Processed_Dataset.iloc[train_size+test_size+2:].copy(deep=True)"
   ]
  },
  {
   "cell_type": "code",
   "execution_count": 13,
   "metadata": {},
   "outputs": [
    {
     "name": "stdout",
     "output_type": "stream",
     "text": [
      "Size of data 345599\n",
      "Size of train data 207360\n",
      "Size of test data 103680\n",
      "Size of eval data 34559\n"
     ]
    }
   ],
   "source": [
    "print(\"Size of data\",len(Processed_Dataset))\n",
    "\n",
    "\n",
    "print(\"Size of train data\",len(train_data))\n",
    "print(\"Size of test data\",len(test_data))\n",
    "print(\"Size of eval data\",len(eval_data))\n",
    "\n"
   ]
  },
  {
   "cell_type": "code",
   "execution_count": null,
   "metadata": {},
   "outputs": [],
   "source": [
    "train_data.to_csv('./datasets/Train_Pre_Processed_Dataset.csv', index=False)\n",
    "test_data.to_csv('./datasets/Test_PreProcessed_Dataset.csv', index=False)\n",
    "eval_data.to_csv('./datasets/Eval_PreProcessed_Dataset.csv', index=False)"
   ]
  }
 ],
 "metadata": {
  "kernelspec": {
   "display_name": "Data-U7ef4Qch",
   "language": "python",
   "name": "python3"
  },
  "language_info": {
   "codemirror_mode": {
    "name": "ipython",
    "version": 3
   },
   "file_extension": ".py",
   "mimetype": "text/x-python",
   "name": "python",
   "nbconvert_exporter": "python",
   "pygments_lexer": "ipython3",
   "version": "3.12.6"
  },
  "orig_nbformat": 4,
  "vscode": {
   "interpreter": {
    "hash": "c6704e7646123a05a4f2b3e39a9d0bbc7a9df789e29fcc8db69b31dbdeef21a0"
   }
  }
 },
 "nbformat": 4,
 "nbformat_minor": 2
}
