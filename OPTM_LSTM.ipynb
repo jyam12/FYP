{
 "cells": [
  {
   "cell_type": "code",
   "execution_count": 6,
   "metadata": {},
   "outputs": [
    {
     "name": "stdout",
     "output_type": "stream",
     "text": [
      "Training Standard LSTM Model...\n"
     ]
    },
    {
     "name": "stderr",
     "output_type": "stream",
     "text": [
      "                                                                                        \r"
     ]
    },
    {
     "name": "stdout",
     "output_type": "stream",
     "text": [
      "Epoch 1: Train Loss: 0.051089, Val Loss: 0.401191\n"
     ]
    },
    {
     "name": "stderr",
     "output_type": "stream",
     "text": [
      "                                                                                        \r"
     ]
    },
    {
     "name": "stdout",
     "output_type": "stream",
     "text": [
      "Epoch 2: Train Loss: 0.000418, Val Loss: 0.129035\n"
     ]
    },
    {
     "name": "stderr",
     "output_type": "stream",
     "text": [
      "                                                                                        \r"
     ]
    },
    {
     "name": "stdout",
     "output_type": "stream",
     "text": [
      "Epoch 3: Train Loss: 0.000182, Val Loss: 0.052835\n"
     ]
    },
    {
     "name": "stderr",
     "output_type": "stream",
     "text": [
      "                                                                                        \r"
     ]
    },
    {
     "name": "stdout",
     "output_type": "stream",
     "text": [
      "Epoch 4: Train Loss: 0.000142, Val Loss: 0.031996\n"
     ]
    },
    {
     "name": "stderr",
     "output_type": "stream",
     "text": [
      "                                                                                        \r"
     ]
    },
    {
     "name": "stdout",
     "output_type": "stream",
     "text": [
      "Epoch 5: Train Loss: 0.000128, Val Loss: 0.023046\n"
     ]
    },
    {
     "name": "stderr",
     "output_type": "stream",
     "text": [
      "                                                                                        \r"
     ]
    },
    {
     "name": "stdout",
     "output_type": "stream",
     "text": [
      "Epoch 6: Train Loss: 0.000121, Val Loss: 0.013414\n"
     ]
    },
    {
     "name": "stderr",
     "output_type": "stream",
     "text": [
      "                                                                                        \r"
     ]
    },
    {
     "name": "stdout",
     "output_type": "stream",
     "text": [
      "Epoch 7: Train Loss: 0.000116, Val Loss: 0.011516\n"
     ]
    },
    {
     "name": "stderr",
     "output_type": "stream",
     "text": [
      "                                                                                        \r"
     ]
    },
    {
     "name": "stdout",
     "output_type": "stream",
     "text": [
      "Epoch 8: Train Loss: 0.000113, Val Loss: 0.006926\n"
     ]
    },
    {
     "name": "stderr",
     "output_type": "stream",
     "text": [
      "                                                                                        \r"
     ]
    },
    {
     "name": "stdout",
     "output_type": "stream",
     "text": [
      "Epoch 9: Train Loss: 0.000112, Val Loss: 0.006873\n"
     ]
    },
    {
     "name": "stderr",
     "output_type": "stream",
     "text": [
      "                                                                                         \r"
     ]
    },
    {
     "name": "stdout",
     "output_type": "stream",
     "text": [
      "Epoch 10: Train Loss: 0.000111, Val Loss: 0.006201\n"
     ]
    },
    {
     "name": "stderr",
     "output_type": "stream",
     "text": [
      "                                                                                         \r"
     ]
    },
    {
     "name": "stdout",
     "output_type": "stream",
     "text": [
      "Epoch 11: Train Loss: 0.000111, Val Loss: 0.005904\n"
     ]
    },
    {
     "name": "stderr",
     "output_type": "stream",
     "text": [
      "                                                                                         \r"
     ]
    },
    {
     "name": "stdout",
     "output_type": "stream",
     "text": [
      "Epoch 12: Train Loss: 0.000111, Val Loss: 0.005223\n"
     ]
    },
    {
     "name": "stderr",
     "output_type": "stream",
     "text": [
      "                                                                                         \r"
     ]
    },
    {
     "name": "stdout",
     "output_type": "stream",
     "text": [
      "Epoch 13: Train Loss: 0.000111, Val Loss: 0.004941\n"
     ]
    },
    {
     "name": "stderr",
     "output_type": "stream",
     "text": [
      "                                                                                         \r"
     ]
    },
    {
     "name": "stdout",
     "output_type": "stream",
     "text": [
      "Epoch 14: Train Loss: 0.000111, Val Loss: 0.005831\n"
     ]
    },
    {
     "name": "stderr",
     "output_type": "stream",
     "text": [
      "                                                                                         \r"
     ]
    },
    {
     "name": "stdout",
     "output_type": "stream",
     "text": [
      "Epoch 15: Train Loss: 0.000111, Val Loss: 0.004784\n"
     ]
    },
    {
     "name": "stderr",
     "output_type": "stream",
     "text": [
      "                                                                                         \r"
     ]
    },
    {
     "name": "stdout",
     "output_type": "stream",
     "text": [
      "Epoch 16: Train Loss: 0.000110, Val Loss: 0.002128\n"
     ]
    },
    {
     "name": "stderr",
     "output_type": "stream",
     "text": [
      "                                                                                         \r"
     ]
    },
    {
     "name": "stdout",
     "output_type": "stream",
     "text": [
      "Epoch 17: Train Loss: 0.000110, Val Loss: 0.003827\n"
     ]
    },
    {
     "name": "stderr",
     "output_type": "stream",
     "text": [
      "                                                                                         \r"
     ]
    },
    {
     "name": "stdout",
     "output_type": "stream",
     "text": [
      "Epoch 18: Train Loss: 0.000110, Val Loss: 0.004232\n"
     ]
    },
    {
     "name": "stderr",
     "output_type": "stream",
     "text": [
      "                                                                                         \r"
     ]
    },
    {
     "name": "stdout",
     "output_type": "stream",
     "text": [
      "Epoch 19: Train Loss: 0.000111, Val Loss: 0.003573\n"
     ]
    },
    {
     "name": "stderr",
     "output_type": "stream",
     "text": [
      "                                                                                         \r"
     ]
    },
    {
     "name": "stdout",
     "output_type": "stream",
     "text": [
      "Epoch 20: Train Loss: 0.000110, Val Loss: 0.003762\n"
     ]
    },
    {
     "name": "stderr",
     "output_type": "stream",
     "text": [
      "                                                                                         \r"
     ]
    },
    {
     "name": "stdout",
     "output_type": "stream",
     "text": [
      "Epoch 21: Train Loss: 0.000110, Val Loss: 0.004046\n",
      "Early stopping triggered at epoch 21\n",
      "Standard LSTM Eval Metrics:\n",
      "MSE: 0.0024257912120208766\n",
      "Average Inference Time per Sample (s): 0.0002057719561788771\n",
      "Standard LSTM model weights saved as 'standard_lstm_weights.pth'.\n",
      "\n",
      "Training OPTM-LSTM Model...\n"
     ]
    },
    {
     "name": "stderr",
     "output_type": "stream",
     "text": [
      "                                                                                        \r"
     ]
    },
    {
     "name": "stdout",
     "output_type": "stream",
     "text": [
      "Epoch 1: Train Loss: 0.078309, Val Loss: 7.550123\n"
     ]
    },
    {
     "name": "stderr",
     "output_type": "stream",
     "text": [
      "                                                                                        \r"
     ]
    },
    {
     "name": "stdout",
     "output_type": "stream",
     "text": [
      "Epoch 2: Train Loss: 0.000534, Val Loss: 9.338129\n"
     ]
    },
    {
     "name": "stderr",
     "output_type": "stream",
     "text": [
      "                                                                                        \r"
     ]
    },
    {
     "name": "stdout",
     "output_type": "stream",
     "text": [
      "Epoch 3: Train Loss: 0.000219, Val Loss: 9.655124\n"
     ]
    },
    {
     "name": "stderr",
     "output_type": "stream",
     "text": [
      "                                                                                        \r"
     ]
    },
    {
     "name": "stdout",
     "output_type": "stream",
     "text": [
      "Epoch 4: Train Loss: 0.000138, Val Loss: 0.631349\n"
     ]
    },
    {
     "name": "stderr",
     "output_type": "stream",
     "text": [
      "                                                                                        \r"
     ]
    },
    {
     "name": "stdout",
     "output_type": "stream",
     "text": [
      "Epoch 5: Train Loss: 0.000122, Val Loss: 0.685777\n"
     ]
    },
    {
     "name": "stderr",
     "output_type": "stream",
     "text": [
      "                                                                                        \r"
     ]
    },
    {
     "name": "stdout",
     "output_type": "stream",
     "text": [
      "Epoch 6: Train Loss: 0.000118, Val Loss: 0.702971\n"
     ]
    },
    {
     "name": "stderr",
     "output_type": "stream",
     "text": [
      "                                                                                        \r"
     ]
    },
    {
     "name": "stdout",
     "output_type": "stream",
     "text": [
      "Epoch 7: Train Loss: 0.000116, Val Loss: 0.726806\n"
     ]
    },
    {
     "name": "stderr",
     "output_type": "stream",
     "text": [
      "                                                                                        \r"
     ]
    },
    {
     "name": "stdout",
     "output_type": "stream",
     "text": [
      "Epoch 8: Train Loss: 0.000114, Val Loss: 0.714207\n"
     ]
    },
    {
     "name": "stderr",
     "output_type": "stream",
     "text": [
      "                                                                                        \r"
     ]
    },
    {
     "name": "stdout",
     "output_type": "stream",
     "text": [
      "Epoch 9: Train Loss: 0.000113, Val Loss: 0.711545\n",
      "Early stopping triggered at epoch 9\n",
      "OPTM-LSTM Eval Metrics:\n",
      "MSE: 0.7115445151658141\n",
      "Average Inference Time per Sample (s): 0.0012862643157994305\n",
      "OPTM-LSTM model weights saved as 'optmlstm_weights.pth'.\n",
      "\n",
      "Standard LSTM Test Metrics:\n",
      "MSE: 0.00012487909488536378\n",
      "Average Inference Time per Sample (s): 0.00019987554599841436\n",
      "\n",
      "OPTM-LSTM Test Metrics:\n",
      "MSE: 0.00010991496813604535\n",
      "Average Inference Time per Sample (s): 0.0012549555113102182\n",
      "\n",
      "Standard LSTM Accuracy Metrics:\n",
      "MSE: 0.0001248790940735489\n",
      "Directional Accuracy: 0.3582851080246914\n",
      "Tolerance Accuracy: 0.004021990740740741\n",
      "\n",
      "OPTM-LSTM Accuracy Metrics:\n",
      "MSE: 0.00010991497401846573\n",
      "Directional Accuracy: 0.3581983024691358\n",
      "Tolerance Accuracy: 0.005025077160493827\n"
     ]
    },
    {
     "data": {
      "image/png": "[encoded data removed]",
      "text/plain": [
       "<Figure size 1200x600 with 1 Axes>"
      ]
     },
     "metadata": {},
     "output_type": "display_data"
    }
   ],
   "source": [
    "import time\n",
    "import numpy as np\n",
    "import pandas as pd\n",
    "import torch\n",
    "import torch.nn as nn\n",
    "import torch.optim as optim\n",
    "from torch.utils.data import Dataset, DataLoader\n",
    "import matplotlib.pyplot as plt\n",
    "from sklearn.preprocessing import StandardScaler\n",
    "from tqdm import tqdm\n",
    "import os\n",
    "\n",
    "os.environ[\"KMP_DUPLICATE_LIB_OK\"] = \"TRUE\"\n",
    "\n",
    "# =============================================================================\n",
    "# Data Preparation (Based on HFT LOB Data)\n",
    "# =============================================================================\n",
    "file_path = \"datasets/test.csv\"\n",
    "data = pd.read_csv(file_path)\n",
    "\n",
    "levels = 5\n",
    "bid_price_cols = [f\"bids[{i}].price\" for i in range(levels)]\n",
    "ask_price_cols = [f\"asks[{i}].price\" for i in range(levels)]\n",
    "feature_columns = bid_price_cols + ask_price_cols\n",
    "\n",
    "data[\"target\"] = data[\"mark_price\"].shift(-1)\n",
    "data.dropna(inplace=True)\n",
    "\n",
    "data[\"mid_price\"] = (data[bid_price_cols[0]] + data[ask_price_cols[0]]) / 2\n",
    "\n",
    "scaler_X = StandardScaler()\n",
    "scaler_y = StandardScaler()\n",
    "data[feature_columns] = scaler_X.fit_transform(data[feature_columns])\n",
    "data[\"target\"] = scaler_y.fit_transform(data[[\"target\"]])\n",
    "data[\"mid_price\"] = scaler_y.fit_transform(data[[\"mid_price\"]])\n",
    "\n",
    "n = len(data)\n",
    "train_end = int(0.6 * n)\n",
    "test_end = int(0.9 * n)\n",
    "train_data = data.iloc[:train_end].reset_index(drop=True)\n",
    "test_data = data.iloc[train_end:test_end].reset_index(drop=True)\n",
    "eval_data = data.iloc[test_end:].reset_index(drop=True)\n",
    "\n",
    "# =============================================================================\n",
    "# Dataset Definition (Combined Input)\n",
    "# =============================================================================\n",
    "class HFTDatasetCombined(Dataset):\n",
    "    def __init__(self, df, feature_cols, guarantor_col, target_col):\n",
    "        self.X_features = df[feature_cols].values.astype(np.float32)\n",
    "        self.guarantor = df[guarantor_col].values.astype(np.float32).reshape(-1, 1)\n",
    "        self.X = np.concatenate([self.X_features, self.guarantor], axis=1)\n",
    "        self.y = df[target_col].values.astype(np.float32)\n",
    "    def __len__(self):\n",
    "        return len(self.X)\n",
    "    def __getitem__(self, idx):\n",
    "        x = self.X[idx]\n",
    "        y = self.y[idx]\n",
    "        return x, y\n",
    "\n",
    "batch_size = 64\n",
    "train_dataset = HFTDatasetCombined(train_data, feature_columns, \"mid_price\", \"target\")\n",
    "test_dataset = HFTDatasetCombined(test_data, feature_columns, \"mid_price\", \"target\")\n",
    "eval_dataset = HFTDatasetCombined(eval_data, feature_columns, \"mid_price\", \"target\")\n",
    "\n",
    "train_loader = DataLoader(train_dataset, batch_size=batch_size, shuffle=True)\n",
    "test_loader = DataLoader(test_dataset, batch_size=1, shuffle=False)\n",
    "eval_loader = DataLoader(eval_dataset, batch_size=1, shuffle=False)\n",
    "\n",
    "# =============================================================================\n",
    "# OPTM-LSTM Cell (PyTorch Implementation)\n",
    "# =============================================================================\n",
    "class OPTMLSTMCellTorch(nn.Module):\n",
    "    def __init__(self, input_dim, hidden_size, gd_iters=7, gd_lr=0.0001):\n",
    "        super(OPTMLSTMCellTorch, self).__init__()\n",
    "        self.hidden_size = hidden_size\n",
    "        self.gd_iters = gd_iters\n",
    "        self.gd_lr = gd_lr\n",
    "        self.linear = nn.Linear(input_dim, 4 * hidden_size, bias=True)\n",
    "        self.recurrent_linear = nn.Linear(hidden_size, 4 * hidden_size, bias=False)\n",
    "        self.sigmoid = torch.sigmoid\n",
    "        self.tanh = torch.tanh\n",
    "\n",
    "    def forward(self, x, h, c):\n",
    "        x_features = x[:, :-1]\n",
    "        guarantor = x[:, -1].view(-1, 1)\n",
    "        \n",
    "        z = self.linear(x_features) + self.recurrent_linear(h)\n",
    "        z_i, z_f, z_c, z_o = z.chunk(4, dim=1)\n",
    "        i = self.sigmoid(z_i)\n",
    "        f = self.sigmoid(z_f)\n",
    "        c_t = self.tanh(z_c)\n",
    "        o = self.sigmoid(z_o)\n",
    "        c_new = f * c + i * c_t\n",
    "        h_temp = o * self.tanh(c_new)\n",
    "        \n",
    "        gated_vector = torch.cat([i, f, c_t, c_new, o, h_temp], dim=1)\n",
    "        theta = torch.ones(6 * self.hidden_size, 1, device=x.device)\n",
    "        for _ in range(self.gd_iters):\n",
    "            y_pred = gated_vector @ theta\n",
    "            error = y_pred - guarantor\n",
    "            grad = (2 / x.size(0)) * (gated_vector.t() @ error)\n",
    "            theta = theta - self.gd_lr * grad\n",
    "\n",
    "        theta_parts = torch.chunk(theta, 6, dim=0)\n",
    "        importance = [torch.mean(torch.abs(part)) for part in theta_parts]\n",
    "        importance_stack = torch.stack(importance)\n",
    "        max_idx = torch.argmax(importance_stack)\n",
    "\n",
    "        if max_idx.item() == 0:\n",
    "            new_h = i\n",
    "        elif max_idx.item() == 1:\n",
    "            new_h = f\n",
    "        elif max_idx.item() == 2:\n",
    "            new_h = c_t\n",
    "        elif max_idx.item() == 3:\n",
    "            new_h = c_new\n",
    "        elif max_idx.item() == 4:\n",
    "            new_h = o\n",
    "        else:\n",
    "            new_h = h_temp\n",
    "        \n",
    "        return new_h, c_new\n",
    "\n",
    "# =============================================================================\n",
    "# OPTM-LSTM Model\n",
    "# =============================================================================\n",
    "class OPTMLSTM(nn.Module):\n",
    "    def __init__(self, input_size, hidden_size):\n",
    "        super(OPTMLSTM, self).__init__()\n",
    "        self.hidden_size = hidden_size\n",
    "        self.cell = OPTMLSTMCellTorch(input_dim=input_size - 1, hidden_size=hidden_size)\n",
    "        self.fc = nn.Linear(hidden_size, 1)\n",
    "        \n",
    "    def forward(self, x):\n",
    "        seq_len, batch, _ = x.shape\n",
    "        device = x.device\n",
    "        h = torch.zeros(batch, self.hidden_size, device=device)\n",
    "        c = torch.zeros(batch, self.hidden_size, device=device)\n",
    "        for t in range(seq_len):\n",
    "            x_t = x[t]\n",
    "            h, c = self.cell(x_t, h, c)\n",
    "        out = self.fc(h)\n",
    "        return out\n",
    "\n",
    "# =============================================================================\n",
    "# Standard LSTM Model (for Comparison)\n",
    "# =============================================================================\n",
    "class StandardLSTM(nn.Module):\n",
    "    def __init__(self, input_size, hidden_size, num_layers=1):\n",
    "        super(StandardLSTM, self).__init__()\n",
    "        self.hidden_size = hidden_size\n",
    "        self.num_layers = num_layers\n",
    "        self.lstm = nn.LSTM(input_size, hidden_size, num_layers)\n",
    "        self.fc = nn.Linear(hidden_size, 1)\n",
    "    def forward(self, x):\n",
    "        h0 = torch.zeros(self.num_layers, x.size(1), self.hidden_size, device=x.device)\n",
    "        c0 = torch.zeros(self.num_layers, x.size(1), self.hidden_size, device=x.device)\n",
    "        out, _ = self.lstm(x, (h0, c0))\n",
    "        out = out[-1]\n",
    "        out = self.fc(out)\n",
    "        return out\n",
    "\n",
    "# =============================================================================\n",
    "# Evaluation Metrics (Accuracy)\n",
    "# =============================================================================\n",
    "def compute_accuracy_metrics(preds, actuals, tol_factor=0.0001):\n",
    "    preds_flat = preds.flatten()\n",
    "    actuals_flat = actuals.flatten()\n",
    "    mse = np.mean((preds_flat - actuals_flat) ** 2)\n",
    "    \n",
    "    actual_diff = np.sign(np.diff(actuals_flat, prepend=actuals_flat[0]))\n",
    "    pred_diff = np.sign(np.diff(preds_flat, prepend=preds_flat[0]))\n",
    "    directional_accuracy = np.mean(actual_diff == pred_diff)\n",
    "    \n",
    "    tol = tol_factor * np.mean(np.abs(actuals_flat))\n",
    "    tolerance_accuracy = np.mean(np.abs(preds_flat - actuals_flat) <= tol)\n",
    "    \n",
    "    return {\"MSE\": mse,\n",
    "            \"Directional Accuracy\": directional_accuracy,\n",
    "            \"Tolerance Accuracy\": tolerance_accuracy}\n",
    "\n",
    "# =============================================================================\n",
    "# Training and Evaluation Functions with Early Stopping\n",
    "# =============================================================================\n",
    "def evaluate_model(model, loader):\n",
    "    device = torch.device(\"cuda\" if torch.cuda.is_available() else \"cpu\")\n",
    "    model.to(device)\n",
    "    model.eval()\n",
    "    total_loss = 0.0\n",
    "    criterion = nn.MSELoss()\n",
    "    with torch.no_grad():\n",
    "        for x, y in loader:\n",
    "            x = x.unsqueeze(0).to(device)\n",
    "            y = y.view(-1, 1).to(device)\n",
    "            output = model(x)\n",
    "            loss = criterion(output, y)\n",
    "            total_loss += loss.item() * x.size(1)\n",
    "    avg_loss = total_loss / len(loader.dataset)\n",
    "    return avg_loss\n",
    "\n",
    "def evaluate_model_with_preds(model, loader):\n",
    "    device = torch.device(\"cuda\" if torch.cuda.is_available() else \"cpu\")\n",
    "    model.to(device)\n",
    "    model.eval()\n",
    "    preds = []\n",
    "    actuals = []\n",
    "    infer_times = []\n",
    "    criterion = nn.MSELoss()\n",
    "    total_loss = 0.0\n",
    "    with torch.no_grad():\n",
    "        for x, y in loader:\n",
    "            x = x.unsqueeze(0).to(device)\n",
    "            y = y.view(-1, 1).to(device)\n",
    "            start = time.time()\n",
    "            output = model(x)\n",
    "            end = time.time()\n",
    "            infer_times.append((end - start) / x.size(1))\n",
    "            loss = criterion(output, y)\n",
    "            total_loss += loss.item() * x.size(1)\n",
    "            preds.append(output.cpu().numpy())\n",
    "            actuals.append(y.cpu().numpy())\n",
    "    preds = np.vstack(preds)\n",
    "    actuals = np.vstack(actuals)\n",
    "    mse = total_loss / len(loader.dataset)\n",
    "    avg_infer_time = np.mean(infer_times)\n",
    "    metrics = {\"MSE\": mse, \"Average Inference Time per Sample (s)\": avg_infer_time}\n",
    "    return metrics, preds, actuals\n",
    "\n",
    "def train_model(model, train_loader, val_loader, num_epochs=50, lr=0.001, patience=5, min_delta=0.0):\n",
    "    device = torch.device(\"cuda\" if torch.cuda.is_available() else \"cpu\")\n",
    "    model.to(device)\n",
    "    criterion = nn.MSELoss()\n",
    "    optimizer = optim.Adam(model.parameters(), lr=lr)\n",
    "    info_matrix = []\n",
    "    best_val_loss = float('inf')\n",
    "    patience_counter = 0\n",
    "    best_model_state = None\n",
    "\n",
    "    for epoch in range(num_epochs):\n",
    "        model.train()\n",
    "        epoch_loss = 0.0\n",
    "        train_bar = tqdm(train_loader, desc=f\"Epoch {epoch+1}/{num_epochs} Training\", leave=False)\n",
    "        for x, y in train_bar:\n",
    "            x = x.unsqueeze(0).to(device)  # (seq_len=1, batch, input_size)\n",
    "            y = y.view(-1, 1).to(device)\n",
    "            optimizer.zero_grad()\n",
    "            output = model(x)\n",
    "            loss = criterion(output, y)\n",
    "            loss.backward()\n",
    "            optimizer.step()\n",
    "            epoch_loss += loss.item() * x.size(1)\n",
    "            train_bar.set_postfix(loss=f\"{loss.item():.6f}\")\n",
    "        \n",
    "        avg_train_loss = epoch_loss / len(train_loader.dataset)\n",
    "        val_loss = evaluate_model(model, val_loader)\n",
    "        info = {'epoch': epoch + 1, 'train_loss': avg_train_loss, 'val_loss': val_loss}\n",
    "        info_matrix.append(info)\n",
    "        print(f\"Epoch {epoch+1}: Train Loss: {avg_train_loss:.6f}, Val Loss: {val_loss:.6f}\")\n",
    "        \n",
    "        # Early Stopping Check\n",
    "        if val_loss < best_val_loss - min_delta:\n",
    "            best_val_loss = val_loss\n",
    "            best_model_state = model.state_dict()\n",
    "            patience_counter = 0\n",
    "        else:\n",
    "            patience_counter += 1\n",
    "            if patience_counter >= patience:\n",
    "                print(f\"Early stopping triggered at epoch {epoch+1}\")\n",
    "                model.load_state_dict(best_model_state)\n",
    "                break\n",
    "\n",
    "    return model, info_matrix\n",
    "\n",
    "# =============================================================================\n",
    "# Main Experiment: Train, Evaluate, and Test (Hidden)\n",
    "# =============================================================================\n",
    "input_size_combined = len(feature_columns) + 1\n",
    "hidden_size = 64\n",
    "\n",
    "# Train Standard LSTM Model\n",
    "model_lstm = StandardLSTM(input_size_combined, hidden_size)\n",
    "print(\"Training Standard LSTM Model...\")\n",
    "model_lstm, info_matrix_lstm = train_model(model_lstm, train_loader, eval_loader, num_epochs=50, lr=0.0001, patience=5)\n",
    "metrics_lstm_eval, preds_lstm_eval, actuals_lstm_eval = evaluate_model_with_preds(model_lstm, eval_loader)\n",
    "print(\"Standard LSTM Eval Metrics:\")\n",
    "for k, v in metrics_lstm_eval.items():\n",
    "    print(f\"{k}: {v}\")\n",
    "\n",
    "# Save Standard LSTM weights\n",
    "torch.save(model_lstm.state_dict(), \"standard_lstm_weights.pth\")\n",
    "print(\"Standard LSTM model weights saved as 'standard_lstm_weights.pth'.\")\n",
    "\n",
    "# Train OPTM-LSTM Model\n",
    "model_optm = OPTMLSTM(input_size_combined, hidden_size)\n",
    "print(\"\\nTraining OPTM-LSTM Model...\")\n",
    "model_optm, info_matrix_optm = train_model(model_optm, train_loader, eval_loader, num_epochs=50, lr=0.0001, patience=5)\n",
    "metrics_optm_eval, preds_optm_eval, actuals_optm_eval = evaluate_model_with_preds(model_optm, eval_loader)\n",
    "print(\"OPTM-LSTM Eval Metrics:\")\n",
    "for k, v in metrics_optm_eval.items():\n",
    "    print(f\"{k}: {v}\")\n",
    "\n",
    "# Save OPTM-LSTM weights\n",
    "torch.save(model_optm.state_dict(), \"optmlstm_weights.pth\")\n",
    "print(\"OPTM-LSTM model weights saved as 'optmlstm_weights.pth'.\")\n",
    "\n",
    "# =============================================================================\n",
    "# Performance Check on Test Set and Accuracy Evaluation\n",
    "# =============================================================================\n",
    "metrics_lstm_test, preds_lstm_test, actuals_lstm_test = evaluate_model_with_preds(model_lstm, test_loader)\n",
    "metrics_optm_test, preds_optm_test, actuals_optm_test = evaluate_model_with_preds(model_optm, test_loader)\n",
    "\n",
    "print(\"\\nStandard LSTM Test Metrics:\")\n",
    "for k, v in metrics_lstm_test.items():\n",
    "    print(f\"{k}: {v}\")\n",
    "print(\"\\nOPTM-LSTM Test Metrics:\")\n",
    "for k, v in metrics_optm_test.items():\n",
    "    print(f\"{k}: {v}\")\n",
    "\n",
    "acc_metrics_lstm = compute_accuracy_metrics(preds_lstm_test, actuals_lstm_test)\n",
    "acc_metrics_optm = compute_accuracy_metrics(preds_optm_test, actuals_optm_test)\n",
    "\n",
    "print(\"\\nStandard LSTM Accuracy Metrics:\")\n",
    "for k, v in acc_metrics_lstm.items():\n",
    "    print(f\"{k}: {v}\")\n",
    "print(\"\\nOPTM-LSTM Accuracy Metrics:\")\n",
    "for k, v in acc_metrics_optm.items():\n",
    "    print(f\"{k}: {v}\")\n",
    "\n",
    "# Plot Actual vs. Predicted Prices on Test Set\n",
    "plt.figure(figsize=(12, 6))\n",
    "plt.plot(actuals_lstm_test.flatten(), label=\"Actual Price\", color=\"blue\")\n",
    "plt.plot(preds_lstm_test.flatten(), label=\"Predicted (Standard LSTM)\", color=\"orange\", linestyle=\"--\")\n",
    "plt.plot(preds_optm_test.flatten(), label=\"Predicted (OPTM-LSTM)\", color=\"green\", linestyle=\":\")\n",
    "plt.title(\"Actual vs. Predicted Prices on Test Set\")\n",
    "plt.xlabel(\"Sample Index\")\n",
    "plt.ylabel(\"Normalized Price\")\n",
    "plt.legend()\n",
    "plt.grid()\n",
    "plt.show()"
   ]
  },
  {
   "cell_type": "code",
   "execution_count": null,
   "metadata": {},
   "outputs": [],
   "source": [
    "# pip install tardis-dev\n",
    "# requires Python >=3.6\n",
    "from tardis_dev import datasets\n",
    "\n",
    "datasets.download(\n",
    "    exchange=\"deribit\",\n",
    "    data_types=[\n",
    "        \"incremental_book_L2\",\n",
    "        \"trades\",\n",
    "        \"quotes\",\n",
    "        \"derivative_ticker\",\n",
    "        \"book_snapshot_25\",\n",
    "        \"liquidations\"\n",
    "    ],\n",
    "    from_date=\"2025-03-01\",\n",
    "    to_date=\"2019-03-02\",\n",
    "    symbols=[\"BTC-PERPETUAL\"],\n",
    "    save_path=\"./datasets/\"\n",
    ")"
   ]
  }
 ],
 "metadata": {
  "kernelspec": {
   "display_name": "FYP",
   "language": "python",
   "name": "python3"
  },
  "language_info": {
   "codemirror_mode": {
    "name": "ipython",
    "version": 3
   },
   "file_extension": ".py",
   "mimetype": "text/x-python",
   "name": "python",
   "nbconvert_exporter": "python",
   "pygments_lexer": "ipython3",
   "version": "3.11.10 | packaged by Anaconda, Inc. | (main, Oct  3 2024, 07:22:26) [MSC v.1929 64 bit (AMD64)]"
  },
  "orig_nbformat": 4,
  "vscode": {
   "interpreter": {
    "hash": "f8b72eb4289db9d2d2f5bec76efcb1161e3d9bb2e7c3515320f79b55e5f660d0"
   }
  }
 },
 "nbformat": 4,
 "nbformat_minor": 2
}
