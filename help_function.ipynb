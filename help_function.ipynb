{
 "cells": [
  {
   "cell_type": "code",
   "execution_count": 145,
   "metadata": {},
   "outputs": [],
   "source": [
    "from sklearn.metrics import mean_squared_error\n",
    "import numpy as np"
   ]
  },
  {
   "cell_type": "code",
   "execution_count": 148,
   "metadata": {},
   "outputs": [],
   "source": [
    "# Evaluate performance using MSE\n",
    "def cal_mean_squared_error(predict: np.array, actual: np.array):\n",
    "    mse=np.array([])\n",
    "    if(predict.shape!=actual.shape):\n",
    "        print(\"The length of predict and actural not match\")\n",
    "        return None \n",
    "    if (len(predict.shape) > 1):\n",
    "        for i in range(predict.shape[1]):\n",
    "            mse=np.append(mse,mean_squared_error(predict[:,i], actual[:,i]))\n",
    "    else:\n",
    "        mse=np.append(mse,mean_squared_error(predict, actual))\n",
    "    return mse"
   ]
  },
  {
   "cell_type": "code",
   "execution_count": 149,
   "metadata": {},
   "outputs": [],
   "source": [
    "# Evaluate performance using directional accuracy\n",
    "def cal_directional_accuracy(predict: np.array, actual: np.array):\n",
    "    directional_accuracy=np.array([])\n",
    "    if(predict.shape!=actual.shape):\n",
    "        print(\"The length of predict and actural not match\")\n",
    "        return None \n",
    "    if (len(predict.shape) > 1):\n",
    "        for i in range(predict.shape[1]):\n",
    "            directional_accuracy=np.append(directional_accuracy,(predict[:,i]==actual[:,i]).mean())\n",
    "    else:\n",
    "        directional_accuracy=np.append(directional_accuracy,(predict==actual).mean())\n",
    "    return directional_accuracy"
   ]
  },
  {
   "cell_type": "code",
   "execution_count": 150,
   "metadata": {},
   "outputs": [],
   "source": [
    "# Evaluate performance using Tolerance-Based accuracy\n",
    "def cal_Tolerance_Based_accuracy(predict: np.array, actual: np.array):\n",
    "    Tolerance_Based_accuracy=np.array([])\n",
    "    if(predict.shape!=actual.shape):\n",
    "        print(\"The length of predict and actural not match\")\n",
    "        return None \n",
    "    if (len(predict.shape) > 1):\n",
    "        for i in range(predict.shape[1]):\n",
    "            tolerance = 0.0001 * actual[:,i].mean()\n",
    "            Tolerance_Based_accuracy=np.append(Tolerance_Based_accuracy,(abs(predict[:,i] - actual[:,i]) <= tolerance).mean())\n",
    "    else:\n",
    "        tolerance = 0.0001 * actual.mean()\n",
    "        Tolerance_Based_accuracy=np.append(Tolerance_Based_accuracy,(abs(predict- actual) <= tolerance).mean())\n",
    "    return Tolerance_Based_accuracy"
   ]
  }
 ],
 "metadata": {
  "kernelspec": {
   "display_name": "Data-U7ef4Qch",
   "language": "python",
   "name": "python3"
  },
  "language_info": {
   "codemirror_mode": {
    "name": "ipython",
    "version": 3
   },
   "file_extension": ".py",
   "mimetype": "text/x-python",
   "name": "python",
   "nbconvert_exporter": "python",
   "pygments_lexer": "ipython3",
   "version": "3.12.6"
  },
  "orig_nbformat": 4,
  "vscode": {
   "interpreter": {
    "hash": "c6704e7646123a05a4f2b3e39a9d0bbc7a9df789e29fcc8db69b31dbdeef21a0"
   }
  }
 },
 "nbformat": 4,
 "nbformat_minor": 2
}
